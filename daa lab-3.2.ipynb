{
 "cells": [
  {
   "cell_type": "code",
   "execution_count": 1,
   "id": "62e5ee0e",
   "metadata": {},
   "outputs": [
    {
     "name": "stdout",
     "output_type": "stream",
     "text": [
      "The sum of the multiplied numbers that are multiples of 3 is: 144\n"
     ]
    }
   ],
   "source": [
    "\n",
    "matrix = [\n",
    "    [1, 3, 2],\n",
    "    [9, 4, 12],\n",
    "    [6, 8, 18]\n",
    "]\n",
    "\n",
    "for i in range(3):\n",
    "    for j in range(3):\n",
    "        if matrix[i][j] % 3 == 0:\n",
    "            matrix[i][j] = matrix[i][j]  * 3\n",
    "\n",
    "\n",
    "sum_of_multiplied_numbers = 0\n",
    "\n",
    "\n",
    "for row in matrix:\n",
    "    for num in row:\n",
    "        if num % 3 == 0:\n",
    "            sum_of_multiplied_numbers += num\n",
    "            \n",
    "            \n",
    "if sum_of_multiplied_numbers > 50:\n",
    "    print(\"The sum of the multiplied numbers that are multiples of 3 is:\", sum_of_multiplied_numbers)\n",
    "else:\n",
    "    print(\"The sum of the mutliplied numbers is less than 50\")\n"
   ]
  },
  {
   "cell_type": "code",
   "execution_count": 5,
   "id": "1dd94ce7",
   "metadata": {},
   "outputs": [
    {
     "name": "stdout",
     "output_type": "stream",
     "text": [
      "The matrix is idempotent.\n"
     ]
    }
   ],
   "source": [
    "\n",
    "matrix = [[2, -2, -4], [-1, 3, 4], [1, -2, -3]]\n",
    "\n",
    "matrix_squared = [[0, 0, 0], [0, 0, 0], [0, 0, 0]]\n",
    "\n",
    "for i in range(len(matrix)):\n",
    "    for j in range(len(matrix[0])):\n",
    "        for k in range(len(matrix)):\n",
    "            matrix_squared[i][j] += matrix[i][k] * matrix[k][j]\n",
    "\n",
    "is_idempotent = True\n",
    "\n",
    "for i in range(len(matrix)):\n",
    "    for j in range(len(matrix[0])):\n",
    "        if matrix[i][j] != matrix_squared[i][j]:\n",
    "            is_idempotent = False\n",
    "            break\n",
    "\n",
    "if is_idempotent:\n",
    "    print(\"The matrix is idempotent.\")\n",
    "else:\n",
    "    print(\"The matrix is not idempotent.\")\n"
   ]
  },
  {
   "cell_type": "code",
   "execution_count": 6,
   "id": "9e15e8f7",
   "metadata": {},
   "outputs": [
    {
     "name": "stdout",
     "output_type": "stream",
     "text": [
      "Original Matrix:\n",
      "1 2 3\n",
      "4 5 6\n",
      "7 8 9\n",
      "\n",
      "Matrix Rotated by 90 Degrees Clockwise:\n",
      "7 4 1\n",
      "8 5 2\n",
      "9 6 3\n"
     ]
    }
   ],
   "source": [
    "def rotate_matrix(matrix):\n",
    "    transposed_matrix = [[matrix[j][i] for j in range(len(matrix))] for i in range(len(matrix[0]))]\n",
    "\n",
    "    \n",
    "    rotated_matrix = [row[::-1] for row in transposed_matrix]\n",
    "\n",
    "    return rotated_matrix\n",
    "\n",
    "def print_matrix(matrix):\n",
    "    for row in matrix:\n",
    "        print(\" \".join(map(str, row)))\n",
    "        \n",
    "matrix = [\n",
    "    [1, 2, 3],\n",
    "    [4, 5, 6],\n",
    "    [7, 8, 9]\n",
    "]\n",
    "\n",
    "print(\"Original Matrix:\")\n",
    "print_matrix(matrix)\n",
    "\n",
    "rotated_matrix = rotate_matrix(matrix)\n",
    "\n",
    "print(\"\\nMatrix Rotated by 90 Degrees Clockwise:\")\n",
    "print_matrix(rotated_matrix)\n"
   ]
  },
  {
   "cell_type": "code",
   "execution_count": 7,
   "id": "1391acb6",
   "metadata": {},
   "outputs": [
    {
     "name": "stdout",
     "output_type": "stream",
     "text": [
      "Original Matrix:\n",
      "1 2 3\n",
      "4 5 6\n",
      "7 8 9\n",
      "\n",
      "Matrix Rotated by 90 Degrees Counterclockwise:\n",
      "3 6 9\n",
      "2 5 8\n",
      "1 4 7\n"
     ]
    }
   ],
   "source": [
    "def rotate_matrix_counterclockwise(matrix):\n",
    "    transposed_matrix = [[matrix[j][i] for j in range(len(matrix))] for i in range(len(matrix[0]))]\n",
    "\n",
    "    rotated_matrix = transposed_matrix[::-1]\n",
    "\n",
    "    return rotated_matrix\n",
    "\n",
    "def print_matrix(matrix):\n",
    "    for row in matrix:\n",
    "        print(\" \".join(map(str, row)))\n",
    "\n",
    "matrix = [\n",
    "    [1, 2, 3],\n",
    "    [4, 5, 6],\n",
    "    [7, 8, 9]\n",
    "]\n",
    "\n",
    "print(\"Original Matrix:\")\n",
    "print_matrix(matrix)\n",
    "\n",
    "rotated_matrix = rotate_matrix_counterclockwise(matrix)\n",
    "\n",
    "print(\"\\nMatrix Rotated by 90 Degrees Counterclockwise:\")\n",
    "print_matrix(rotated_matrix)"
   ]
  },
  {
   "cell_type": "code",
   "execution_count": null,
   "id": "8478e829",
   "metadata": {},
   "outputs": [],
   "source": []
  }
 ],
 "metadata": {
  "kernelspec": {
   "display_name": "Python 3 (ipykernel)",
   "language": "python",
   "name": "python3"
  },
  "language_info": {
   "codemirror_mode": {
    "name": "ipython",
    "version": 3
   },
   "file_extension": ".py",
   "mimetype": "text/x-python",
   "name": "python",
   "nbconvert_exporter": "python",
   "pygments_lexer": "ipython3",
   "version": "3.9.12"
  }
 },
 "nbformat": 4,
 "nbformat_minor": 5
}
