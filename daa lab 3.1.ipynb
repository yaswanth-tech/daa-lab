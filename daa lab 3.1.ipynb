{
 "cells": [
  {
   "cell_type": "code",
   "execution_count": 1,
   "id": "7efe4b1e",
   "metadata": {},
   "outputs": [
    {
     "name": "stdout",
     "output_type": "stream",
     "text": [
      "[1, 3, 2]\n",
      "[9, 4, 12]\n",
      "[6, 8, 18]\n"
     ]
    }
   ],
   "source": [
    "matrix = [[1,3,2], [9,4,12], [6,8,18]]\n",
    "for row in matrix:\n",
    "    print(row)\n",
    "    "
   ]
  },
  {
   "cell_type": "code",
   "execution_count": null,
   "id": "a4d925ef",
   "metadata": {},
   "outputs": [],
   "source": []
  },
  {
   "cell_type": "code",
   "execution_count": 5,
   "id": "08f4428a",
   "metadata": {},
   "outputs": [
    {
     "name": "stdout",
     "output_type": "stream",
     "text": [
      "[1, 9, 2]\n",
      "[27, 4, 36]\n",
      "[18, 8, 54]\n"
     ]
    }
   ],
   "source": [
    "matrix = [\n",
    "    [1, 3, 2],\n",
    "    [9, 4, 12],\n",
    "    [6, 8, 18]\n",
    "]\n",
    "\n",
    "for i in range(3):\n",
    "    for j in range(3):\n",
    "        if matrix[i][j] % 3 == 0:\n",
    "            matrix[i][j] = matrix[i][j]  * 3\n",
    "\n",
    "for row in matrix:\n",
    "    print(row)\n",
    "\n",
    "    "
   ]
  },
  {
   "cell_type": "code",
   "execution_count": 10,
   "id": "1d6ab86e",
   "metadata": {},
   "outputs": [
    {
     "name": "stdout",
     "output_type": "stream",
     "text": [
      "The product of numbers that are multiples of 3 is: 34992\n"
     ]
    }
   ],
   "source": [
    "\n",
    "matrix = [\n",
    "    [1, 3, 2],\n",
    "    [9, 4, 12],\n",
    "    [6, 8, 18]\n",
    "]\n",
    "\n",
    "product = 1\n",
    "total_sum = 0\n",
    "\n",
    "for row in matrix:\n",
    "    for num in row:\n",
    "        if num % 3 == 0:\n",
    "            product *= num\n",
    "            total_sum += num\n",
    "\n",
    "print(\"The product of numbers that are multiples of 3 is:\", product)\n",
    "\n",
    "if total_sum > 50:\n",
    "    print(\"The sum of the numbers is greater than 50. Here is the matrix:\")\n",
    "    for row in matrix:\n",
    "        print(row)\n"
   ]
  },
  {
   "cell_type": "code",
   "execution_count": null,
   "id": "143a47f7",
   "metadata": {},
   "outputs": [],
   "source": []
  },
  {
   "cell_type": "code",
   "execution_count": 14,
   "id": "3e30b54f",
   "metadata": {},
   "outputs": [
    {
     "name": "stdout",
     "output_type": "stream",
     "text": [
      "The sum of the multiplied numbers that are multiples of 3 is: 144\n"
     ]
    }
   ],
   "source": [
    "\n",
    "matrix = [\n",
    "    [1, 3, 2],\n",
    "    [9, 4, 12],\n",
    "    [6, 8, 18]\n",
    "]\n",
    "\n",
    "for i in range(3):\n",
    "    for j in range(3):\n",
    "        if matrix[i][j] % 3 == 0:\n",
    "            matrix[i][j] = matrix[i][j]  * 3\n",
    "\n",
    "\n",
    "sum_of_multiplied_numbers = 0\n",
    "\n",
    "\n",
    "for row in matrix:\n",
    "    for num in row:\n",
    "        if num % 3 == 0:\n",
    "            sum_of_multiplied_numbers += num\n",
    "            \n",
    "            \n",
    "if sum_of_multiplied_numbers > 50:\n",
    "    print(\"The sum of the multiplied numbers that are multiples of 3 is:\", sum_of_multiplied_numbers)\n",
    "else:\n",
    "    print(\"The sum of the mutliplied numbers is less than 50\")\n"
   ]
  },
  {
   "cell_type": "code",
   "execution_count": null,
   "id": "2a3405d6",
   "metadata": {},
   "outputs": [],
   "source": [
    "import numpy as np\n",
    "\n",
    "# Define the matrix\n",
    "matrix = np.array([[2, -2, 4], [-1, 3, 4], [1, -2, 3]])\n",
    "\n",
    "# Calculate A^2\n",
    "matrix_squared = np.dot(matrix, matrix)\n",
    "\n",
    "# Check if the matrix is idempotent (A^2 equals A)\n",
    "is_idempotent = np.array_equal(matrix, matrix_squared)\n",
    "\n",
    "# Print the result\n",
    "if is_idempotent:\n",
    "    print(\"The matrix is idempotent.\")\n",
    "else:\n",
    "    print(\"The matrix is not idempotent.\")\n"
   ]
  }
 ],
 "metadata": {
  "kernelspec": {
   "display_name": "Python 3 (ipykernel)",
   "language": "python",
   "name": "python3"
  },
  "language_info": {
   "codemirror_mode": {
    "name": "ipython",
    "version": 3
   },
   "file_extension": ".py",
   "mimetype": "text/x-python",
   "name": "python",
   "nbconvert_exporter": "python",
   "pygments_lexer": "ipython3",
   "version": "3.9.12"
  }
 },
 "nbformat": 4,
 "nbformat_minor": 5
}
