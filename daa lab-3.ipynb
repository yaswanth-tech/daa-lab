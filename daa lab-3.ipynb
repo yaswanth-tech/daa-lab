{
 "cells": [
  {
   "cell_type": "code",
   "execution_count": 1,
   "id": "47fbb53c",
   "metadata": {},
   "outputs": [],
   "source": [
    "\n"
   ]
  },
  {
   "cell_type": "code",
   "execution_count": 3,
   "id": "15415e7e",
   "metadata": {},
   "outputs": [
    {
     "name": "stdout",
     "output_type": "stream",
     "text": [
      "[1, 3, 2]\n",
      "[9, 4, 12]\n",
      "[6, 8, 18]\n",
      "[1, 1.0, 2]\n",
      "[3.0, 4, 4.0]\n",
      "[2.0, 8, 6.0]\n"
     ]
    }
   ],
   "source": [
    "\n",
    "matrix = [[1,3,2], [9,4,12], [6,8,18]]\n",
    "for row in matrix:\n",
    "    print(row)\n",
    "    \n",
    "for i in range(3):\n",
    "    for j in range(3):\n",
    "        if matrix[i][j] % 3 == 0:\n",
    "            matrix[i][j] = matrix[i][j] / 3\n",
    "\n",
    "\n",
    "for row in matrix:\n",
    "    print(row)\n"
   ]
  },
  {
   "cell_type": "code",
   "execution_count": null,
   "id": "6f3349fb",
   "metadata": {},
   "outputs": [],
   "source": [
    "\n"
   ]
  },
  {
   "cell_type": "code",
   "execution_count": 5,
   "id": "8e3fcbbe",
   "metadata": {},
   "outputs": [
    {
     "name": "stdout",
     "output_type": "stream",
     "text": [
      "[1, 3.0, 2]\n",
      "[9.0, 4, 12.0]\n",
      "[6.0, 8, 18.0]\n"
     ]
    }
   ],
   "source": [
    "\n",
    "matrix = [\n",
    "    [1, 3, 2],\n",
    "    [9, 4, 12],\n",
    "    [6, 8, 18]\n",
    "]\n",
    "\n",
    "for i in range(3):\n",
    "    for j in range(3):\n",
    "        if matrix[i][j] % 3 == 0:\n",
    "            matrix[i][j] = matrix[i][j] / 3 * 3\n",
    "\n",
    "for row in matrix:\n",
    "    print(row)\n"
   ]
  },
  {
   "cell_type": "code",
   "execution_count": 6,
   "id": "a38eb845",
   "metadata": {},
   "outputs": [
    {
     "name": "stdout",
     "output_type": "stream",
     "text": [
      "[1, 3, 2]\n",
      "[9, 4, 12]\n",
      "[6, 8, 18]\n"
     ]
    }
   ],
   "source": [
    "\n",
    "matrix = [\n",
    "    [1, 3, 2],\n",
    "    [9, 4, 12],\n",
    "    [6, 8, 18]\n",
    "]\n",
    "\n",
    "is_greater_than_15 = False\n",
    "for i in range(3):\n",
    "    for j in range(3):\n",
    "        if matrix[i][j] > 15:\n",
    "            is_greater_than_15 = True\n",
    "            break\n",
    "\n",
    "if is_greater_than_15:\n",
    "    for row in matrix:\n",
    "        print(row)\n"
   ]
  },
  {
   "cell_type": "code",
   "execution_count": 8,
   "id": "ec3833e9",
   "metadata": {},
   "outputs": [
    {
     "name": "stdout",
     "output_type": "stream",
     "text": [
      "27\n",
      "36\n",
      "18\n",
      "54\n"
     ]
    }
   ],
   "source": [
    "matrix = [\n",
    "    [1, 3, 2],\n",
    "    [9, 4, 12],\n",
    "    [6, 8, 18]\n",
    "]\n",
    "\n",
    "result = [element * 3 for row in matrix for element in row if element % 3 == 0 and element * 3 > 15]\n",
    "\n",
    "for value in result:\n",
    "    print(value)"
   ]
  },
  {
   "cell_type": "code",
   "execution_count": null,
   "id": "05f1d6f9",
   "metadata": {},
   "outputs": [],
   "source": []
  }
 ],
 "metadata": {
  "kernelspec": {
   "display_name": "Python 3 (ipykernel)",
   "language": "python",
   "name": "python3"
  },
  "language_info": {
   "codemirror_mode": {
    "name": "ipython",
    "version": 3
   },
   "file_extension": ".py",
   "mimetype": "text/x-python",
   "name": "python",
   "nbconvert_exporter": "python",
   "pygments_lexer": "ipython3",
   "version": "3.9.12"
  }
 },
 "nbformat": 4,
 "nbformat_minor": 5
}
