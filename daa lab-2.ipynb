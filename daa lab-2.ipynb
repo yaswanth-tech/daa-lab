{
 "cells": [
  {
   "cell_type": "code",
   "execution_count": 2,
   "id": "0a2bb77c",
   "metadata": {},
   "outputs": [
    {
     "name": "stdout",
     "output_type": "stream",
     "text": [
      "India Australia England New Zealand america argentina "
     ]
    }
   ],
   "source": [
    "#1 SINGLE LINKED LIST\n",
    "class Node:\n",
    "    def __init__(self, k):\n",
    "        self.key = k\n",
    "        self.next = None\n",
    "        \n",
    "def printCll(head):\n",
    "    if head == None:\n",
    "        return\n",
    "    print(head.key, end = \" \")\n",
    "    curr = head.next\n",
    "    while curr != head:\n",
    "        print(curr.key, end = \" \")\n",
    "        curr = curr.next\n",
    "        \n",
    "head = Node(\"India\")\n",
    "head.next = Node(\"Australia\")\n",
    "head.next.next = Node(\"England\")\n",
    "head.next.next.next = Node(\"New Zealand\")\n",
    "head.next.next.next.next = Node(\"america\")\n",
    "head.next.next.next.next.next = Node(\"argentina\")\n",
    "head.next.next.next.next.next.next = head\n",
    "\n",
    "printCll(head)\n"
   ]
  },
  {
   "cell_type": "code",
   "execution_count": 4,
   "id": "01644ab5",
   "metadata": {},
   "outputs": [
    {
     "name": "stdout",
     "output_type": "stream",
     "text": [
      "True\n"
     ]
    }
   ],
   "source": [
    "class Node:\n",
    "    def __init__(self, k):\n",
    "        self.key = k\n",
    "        self.next = None \n",
    "        \n",
    "def printCll(head):\n",
    "    if head == None:\n",
    "        return\n",
    "    print(head.key, end = \" \")\n",
    "    curr = head.next\n",
    "    while curr != head:\n",
    "        print(curr.key, end = \" \")\n",
    "        curr = curr.next\n",
    "    \n",
    "def has_cycle(head):\n",
    "    visited = set()  \n",
    "    curr = head\n",
    "\n",
    "    while curr is not None:\n",
    "        if curr in visited:\n",
    "            return True  \n",
    "        visited.add(curr)\n",
    "        curr = curr.next\n",
    "\n",
    "    return False\n",
    "\n",
    "head = Node(100)\n",
    "head.next = Node(200)\n",
    "head.next.next = Node(300)\n",
    "head.next.next.next = head\n",
    "\n",
    "print(has_cycle(head))\n"
   ]
  },
  {
   "cell_type": "code",
   "execution_count": 5,
   "id": "1e16d0c4",
   "metadata": {},
   "outputs": [
    {
     "name": "stdout",
     "output_type": "stream",
     "text": [
      "[1, 12, 11, 10]\n"
     ]
    }
   ],
   "source": [
    "def remove_duplicates(arr):\n",
    "    unique_arr = []  \n",
    "    \n",
    "    for element in arr:\n",
    "        if element not in unique_arr:\n",
    "            unique_arr.append(element)  \n",
    "            \n",
    "    return unique_arr\n",
    "\n",
    "arr = [1, 12, 11, 10, 11, 1]\n",
    "result = remove_duplicates(arr)\n",
    "print(result)\n",
    "    "
   ]
  },
  {
   "cell_type": "code",
   "execution_count": 8,
   "id": "6a236dd8",
   "metadata": {},
   "outputs": [
    {
     "name": "stdout",
     "output_type": "stream",
     "text": [
      "mom is a palindrome!\n"
     ]
    }
   ],
   "source": [
    "def is_palindrome(s):\n",
    "    \n",
    "    return s == s[::-1]\n",
    "\n",
    "word = \"mom\"\n",
    "if is_palindrome(word):\n",
    "    print(f\"{word} is a palindrome.\")\n",
    "else:\n",
    "    print(f\"{word} is not a palindrome.\")\n"
   ]
  },
  {
   "cell_type": "code",
   "execution_count": 10,
   "id": "75e39f21",
   "metadata": {},
   "outputs": [
    {
     "name": "stdout",
     "output_type": "stream",
     "text": [
      "ABC\n",
      "ACB\n",
      "BAC\n",
      "BCA\n",
      "CAB\n",
      "CBA\n"
     ]
    }
   ],
   "source": [
    "from itertools import permutations\n",
    "\n",
    "input_str = \"ABC\"\n",
    "\n",
    "permutations_list = list(permutations(input_str))\n",
    "\n",
    "for permutation in permutations_list:\n",
    "    print(''.join(permutation))\n"
   ]
  },
  {
   "cell_type": "code",
   "execution_count": null,
   "id": "b663a1e0",
   "metadata": {},
   "outputs": [],
   "source": []
  }
 ],
 "metadata": {
  "kernelspec": {
   "display_name": "Python 3 (ipykernel)",
   "language": "python",
   "name": "python3"
  },
  "language_info": {
   "codemirror_mode": {
    "name": "ipython",
    "version": 3
   },
   "file_extension": ".py",
   "mimetype": "text/x-python",
   "name": "python",
   "nbconvert_exporter": "python",
   "pygments_lexer": "ipython3",
   "version": "3.9.12"
  }
 },
 "nbformat": 4,
 "nbformat_minor": 5
}
