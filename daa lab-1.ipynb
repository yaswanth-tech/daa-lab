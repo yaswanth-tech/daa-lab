{
 "cells": [
  {
   "cell_type": "code",
   "execution_count": 1,
   "id": "a3dd89c1",
   "metadata": {},
   "outputs": [
    {
     "name": "stdout",
     "output_type": "stream",
     "text": [
      "[0, 0, 0, 0, 0, 0, 1, 1, 1, 1, 2, 2, 2]\n"
     ]
    }
   ],
   "source": [
    "def sort_array(arr):\n",
    "    count_0, count_1, count_2 = 0, 0, 0\n",
    "\n",
    "    \n",
    "    for element in arr:\n",
    "        if element == 0:\n",
    "            count_0 += 1\n",
    "        elif element == 1:\n",
    "            count_1 += 1\n",
    "        elif element == 2:\n",
    "            count_2 += 1\n",
    "\n",
    "    \n",
    "    sorted_arr = [0] * count_0 + [1] * count_1 + [2] * count_2\n",
    "\n",
    "    return sorted_arr\n",
    "\n",
    "input_array = [1, 1, 0, 0, 2, 2, 0, 0, 1, 0, 2, 0, 1]\n",
    "sorted_result = sort_array(input_array)\n",
    "print(sorted_result)\n"
   ]
  },
  {
   "cell_type": "code",
   "execution_count": 2,
   "id": "1aae4f4f",
   "metadata": {},
   "outputs": [
    {
     "name": "stdout",
     "output_type": "stream",
     "text": [
      "[0, 0, 0, 0, 0, 0, 1, 1, 1, 1, 2, 2, 2]\n"
     ]
    }
   ],
   "source": [
    "def bubble_sort(arr):\n",
    "    n = len(arr)\n",
    "    \n",
    "    for i in range(n):\n",
    "        swapped = False\n",
    "        \n",
    "        for j in range(0, n-i-1):\n",
    "            if arr[j] > arr[j+1]:\n",
    "                arr[j], arr[j+1] = arr[j+1], arr[j]\n",
    "                swapped = True\n",
    "        \n",
    "        \n",
    "        if not swapped:\n",
    "            break\n",
    "\n",
    "def sort_array(arr):\n",
    "    bubble_sort(arr)\n",
    "\n",
    "input_array = [1, 1, 0, 0, 2, 2, 0, 0, 1, 0, 2, 0, 1]\n",
    "sort_array(input_array)\n",
    "print(input_array)\n",
    "\n"
   ]
  },
  {
   "cell_type": "code",
   "execution_count": 6,
   "id": "3f1f5194",
   "metadata": {},
   "outputs": [
    {
     "name": "stdout",
     "output_type": "stream",
     "text": [
      "Rajana Yaswanth\n"
     ]
    }
   ],
   "source": [
    "def capitalize_first_letter(input_string):\n",
    "    words = input_string.split()\n",
    "\n",
    "    capitalized_words = [word.capitalize() for word in words]\n",
    "\n",
    "    result_string = ' '.join(capitalized_words)\n",
    "\n",
    "    return result_string\n",
    "\n",
    "input_string = \"Rajana Yaswanth\"\n",
    "capitalized_string = capitalize_first_letter(input_string)\n",
    "print(capitalized_string)\n"
   ]
  },
  {
   "cell_type": "code",
   "execution_count": 5,
   "id": "0a9a4153",
   "metadata": {},
   "outputs": [
    {
     "name": "stdout",
     "output_type": "stream",
     "text": [
      "Punit Kumar Singh\n"
     ]
    }
   ],
   "source": [
    "input_name = \"punit kumar singh\"\n",
    "output_name = input_name.title()\n",
    "print(output_name)"
   ]
  },
  {
   "cell_type": "code",
   "execution_count": 7,
   "id": "3a43fe21",
   "metadata": {},
   "outputs": [
    {
     "name": "stdout",
     "output_type": "stream",
     "text": [
      "Rajana Yaswanth\n"
     ]
    }
   ],
   "source": [
    "def capitalize_first_letter(input_string):\n",
    "    words = input_string.split()\n",
    "\n",
    "    capitalized_words = [word.capitalize() for word in words]\n",
    "\n",
    "    result_string = ' '.join(capitalized_words)\n",
    "\n",
    "    return result_string\n",
    "\n",
    "input_string = \"RAJANA YASWANTH\"\n",
    "capitalized_string = capitalize_first_letter(input_string)\n",
    "print(capitalized_string)\n"
   ]
  },
  {
   "cell_type": "code",
   "execution_count": 1,
   "id": "d978cc2e",
   "metadata": {},
   "outputs": [
    {
     "name": "stdout",
     "output_type": "stream",
     "text": [
      "True\n",
      "True\n",
      "False\n",
      "True\n",
      "True\n"
     ]
    }
   ],
   "source": [
    "def is_balanced_parentheses(s):\n",
    "    open_count = 0\n",
    "    close_count = 0\n",
    "\n",
    "    for char in s:\n",
    "        if char == '(':\n",
    "            open_count += 1\n",
    "        elif char == ')':\n",
    "            close_count += 1\n",
    "\n",
    "        if close_count > open_count:\n",
    "            return False\n",
    "\n",
    "    return open_count == close_count\n",
    "\n",
    "\n",
    "print(is_balanced_parentheses(\"()\"))             \n",
    "print(is_balanced_parentheses(\"()[]{}\"))         \n",
    "print(is_balanced_parentheses(\"(]\"))              \n",
    "print(is_balanced_parentheses(\"([)]\"))            \n",
    "print(is_balanced_parentheses(\"{[()]}\"))          \n"
   ]
  },
  {
   "cell_type": "code",
   "execution_count": 12,
   "id": "7e1c5b1a",
   "metadata": {},
   "outputs": [
    {
     "name": "stdout",
     "output_type": "stream",
     "text": [
      "True\n",
      "True\n",
      "False\n"
     ]
    }
   ],
   "source": [
    "def capitalize_first_letter(input_string):\n",
    "    words = input_string.split()\n",
    "\n",
    "    capitalized_words = [word.capitalize() for word in words]\n",
    "\n",
    "    result_string = ' '.join(capitalized_words)\n",
    "\n",
    "    return result_string\n",
    "\n",
    "input_string = \"Rajana Yaswanth\"\n",
    "capitalized_string = capitalize_first_letter(input_string)\n",
    "print(capitalized_string)\n"
   ]
  },
  {
   "cell_type": "code",
   "execution_count": null,
   "id": "58e33908",
   "metadata": {},
   "outputs": [],
   "source": []
  },
  {
   "cell_type": "code",
   "execution_count": null,
   "id": "f757ac25",
   "metadata": {},
   "outputs": [],
   "source": []
  }
 ],
 "metadata": {
  "kernelspec": {
   "display_name": "Python 3 (ipykernel)",
   "language": "python",
   "name": "python3"
  },
  "language_info": {
   "codemirror_mode": {
    "name": "ipython",
    "version": 3
   },
   "file_extension": ".py",
   "mimetype": "text/x-python",
   "name": "python",
   "nbconvert_exporter": "python",
   "pygments_lexer": "ipython3",
   "version": "3.9.12"
  }
 },
 "nbformat": 4,
 "nbformat_minor": 5
}
