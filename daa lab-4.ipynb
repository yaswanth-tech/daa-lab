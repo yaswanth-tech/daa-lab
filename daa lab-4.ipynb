{
 "cells": [
  {
   "cell_type": "code",
   "execution_count": null,
   "id": "835b9af8",
   "metadata": {},
   "outputs": [],
   "source": []
  },
  {
   "cell_type": "code",
   "execution_count": 2,
   "id": "828c596f",
   "metadata": {},
   "outputs": [
    {
     "name": "stdout",
     "output_type": "stream",
     "text": [
      "Inversions:\n",
      "(8, 4)\n",
      "(8, 2)\n",
      "(8, 1)\n",
      "(4, 2)\n",
      "(4, 1)\n",
      "(2, 1)\n"
     ]
    }
   ],
   "source": [
    "def find_inversions(arr):\n",
    "    inversions = []\n",
    "    n = len(arr)\n",
    "\n",
    "    for i in range(n):\n",
    "        for j in range(i + 1, n):\n",
    "            if arr[i] > arr[j]:\n",
    "                inversions.append((arr[i], arr[j]))\n",
    "\n",
    "    return inversions\n",
    "\n",
    "arr = [8, 4, 2, 1]\n",
    "inversions = find_inversions(arr)\n",
    "\n",
    "print(\"Inversions:\")\n",
    "for inversion in inversions:\n",
    "    print(inversion)\n"
   ]
  },
  {
   "cell_type": "code",
   "execution_count": 3,
   "id": "0649662b",
   "metadata": {},
   "outputs": [
    {
     "name": "stdout",
     "output_type": "stream",
     "text": [
      "Inversions:\n",
      "(8, 1)\n",
      "(9, 1)\n",
      "(16, 1)\n"
     ]
    }
   ],
   "source": [
    "def find_inversions(arr):\n",
    "    inversions = []\n",
    "    n = len(arr)\n",
    "\n",
    "    for i in range(n):\n",
    "        for j in range(i + 1, n):\n",
    "            if arr[i] > arr[j]:\n",
    "                inversions.append((arr[i], arr[j]))\n",
    "\n",
    "    return inversions\n",
    "\n",
    "arr = [8, 9,16,1]\n",
    "inversions = find_inversions(arr)\n",
    "\n",
    "print(\"Inversions:\")\n",
    "for inversion in inversions:\n",
    "    print(inversion)\n"
   ]
  },
  {
   "cell_type": "code",
   "execution_count": 4,
   "id": "763251ee",
   "metadata": {},
   "outputs": [
    {
     "name": "stdout",
     "output_type": "stream",
     "text": [
      "Inversions:\n",
      "(9, 1)\n",
      "(9, 4)\n",
      "(16, 1)\n",
      "(16, 4)\n"
     ]
    }
   ],
   "source": [
    "def find_inversions(arr):\n",
    "    inversions = []\n",
    "    n = len(arr)\n",
    "\n",
    "    for i in range(n):\n",
    "        for j in range(i + 1, n):\n",
    "            if arr[i] > arr[j]:\n",
    "                inversions.append((arr[i], arr[j]))\n",
    "\n",
    "    return inversions\n",
    "\n",
    "arr = [9,16,1,4]\n",
    "inversions = find_inversions(arr)\n",
    "\n",
    "print(\"Inversions:\")\n",
    "for inversion in inversions:\n",
    "    print(inversion)\n"
   ]
  },
  {
   "cell_type": "code",
   "execution_count": 7,
   "id": "094f9992",
   "metadata": {},
   "outputs": [
    {
     "name": "stdout",
     "output_type": "stream",
     "text": [
      "The two trees are identical.\n"
     ]
    }
   ],
   "source": [
    "class TreeNode:\n",
    "    def __init__(self, value):\n",
    "        self.val = value\n",
    "        self.left = None\n",
    "        self.right = None\n",
    "\n",
    "def are_identical_trees(root1, root2):\n",
    "    if not root1 and not root2:\n",
    "        return True\n",
    "    \n",
    "    if not root1 or not root2:\n",
    "        return False\n",
    "    \n",
    "    return (root1.val == root2.val) and \\\n",
    "           are_identical_trees(root1.left, root2.left) and \\\n",
    "           are_identical_trees(root1.right, root2.right)\n",
    "\n",
    "root1 = TreeNode(1)\n",
    "root1.left = TreeNode(2)\n",
    "root1.right = TreeNode(3)\n",
    "root1.left.left = TreeNode(4)\n",
    "\n",
    "root2 = TreeNode(1)\n",
    "root2.left = TreeNode(2)\n",
    "root2.right = TreeNode(3)\n",
    "root2.left.left = TreeNode(4)\n",
    "\n",
    "if are_identical_trees(root1, root2):\n",
    "    print(\"The two trees are identical.\")\n",
    "else:\n",
    "    print(\"The two trees are not identical.\")\n"
   ]
  },
  {
   "cell_type": "code",
   "execution_count": 8,
   "id": "a19a91fb",
   "metadata": {},
   "outputs": [
    {
     "name": "stdout",
     "output_type": "stream",
     "text": [
      "The trees are identical.\n"
     ]
    }
   ],
   "source": [
    "class TreeNode:\n",
    "    def __init__(self, value):\n",
    "        self.val = value\n",
    "        self.left = None\n",
    "        self.right = None\n",
    "\n",
    "def are_identical_trees(root1, root2):\n",
    "    if not root1 and not root2:\n",
    "        return True\n",
    "    \n",
    "    if not root1 or not root2:\n",
    "        return False\n",
    "    \n",
    "    queue1 = [root1]\n",
    "    queue2 = [root2]\n",
    "    \n",
    "    while queue1 and queue2:\n",
    "        node1 = queue1.pop(0)\n",
    "        node2 = queue2.pop(0)\n",
    "        \n",
    "        if node1.val != node2.val:\n",
    "            return False\n",
    "        \n",
    "        if node1.left and node2.left:\n",
    "            queue1.append(node1.left)\n",
    "            queue2.append(node2.left)\n",
    "        elif node1.left or node2.left:\n",
    "            return False\n",
    "        \n",
    "        if node1.right and node2.right:\n",
    "            queue1.append(node1.right)\n",
    "            queue2.append(node2.right)\n",
    "        elif node1.right or node2.right:\n",
    "            return False\n",
    "    \n",
    "    return True\n",
    "\n",
    "tree1 = TreeNode(1)\n",
    "tree1.left = TreeNode(2)\n",
    "tree1.right = TreeNode(3)\n",
    "\n",
    "tree2 = TreeNode(1)\n",
    "tree2.left = TreeNode(2)\n",
    "tree2.right = TreeNode(3)\n",
    "\n",
    "if are_identical_trees(tree1, tree2):\n",
    "    print(\"The trees are identical.\")\n",
    "else:\n",
    "    print(\"The trees are not identical.\")\n"
   ]
  },
  {
   "cell_type": "code",
   "execution_count": null,
   "id": "07b6603d",
   "metadata": {},
   "outputs": [],
   "source": []
  },
  {
   "cell_type": "code",
   "execution_count": 10,
   "id": "0ec4126d",
   "metadata": {},
   "outputs": [
    {
     "name": "stdout",
     "output_type": "stream",
     "text": [
      "eht yks si eulb\n"
     ]
    }
   ],
   "source": [
    "sentence = \"the sky is blue\"\n",
    "\n",
    "words = sentence.split()\n",
    "\n",
    "reversed_words = [word[::-1] for word in words]\n",
    "\n",
    "reversed_sentence = ' '.join(reversed_words)\n",
    "\n",
    "print(reversed_sentence)\n"
   ]
  },
  {
   "cell_type": "code",
   "execution_count": 11,
   "id": "34e81511",
   "metadata": {},
   "outputs": [
    {
     "name": "stdout",
     "output_type": "stream",
     "text": [
      "eht sky si blue\n"
     ]
    }
   ],
   "source": [
    "sentence = \"the sky is blue\"\n",
    "\n",
    "words = sentence.split()\n",
    "\n",
    "reversed_words = [word[::-1] if index % 2 == 0 else word for index, word in enumerate(words)]\n",
    "\n",
    "reversed_sentence = ' '.join(reversed_words)\n",
    "\n",
    "print(reversed_sentence)\n"
   ]
  },
  {
   "cell_type": "code",
   "execution_count": 12,
   "id": "c9a76962",
   "metadata": {},
   "outputs": [
    {
     "name": "stdout",
     "output_type": "stream",
     "text": [
      "the yks is eulb\n"
     ]
    }
   ],
   "source": [
    "sentence = \"the sky is blue\"\n",
    "\n",
    "words = sentence.split()\n",
    "\n",
    "reversed_words = [word[::-1] if index % 2 == 1 else word for index, word in enumerate(words)]\n",
    "\n",
    "reversed_sentence = ' '.join(reversed_words)\n",
    "\n",
    "print(reversed_sentence)\n"
   ]
  },
  {
   "cell_type": "code",
   "execution_count": 13,
   "id": "84792d5a",
   "metadata": {},
   "outputs": [
    {
     "name": "stdout",
     "output_type": "stream",
     "text": [
      "the yks is eulb\n"
     ]
    }
   ],
   "source": [
    "sentence = \"the sky is blue\"\n",
    "\n",
    "def custom_split(sentence):\n",
    "    words = []\n",
    "    word = \"\"\n",
    "    for char in sentence:\n",
    "        if char == ' ':\n",
    "            if word:\n",
    "                words.append(word)\n",
    "            word = \"\"\n",
    "        else:\n",
    "            word += char\n",
    "    if word:\n",
    "        words.append(word)\n",
    "    return words\n",
    "\n",
    "words = custom_split(sentence)\n",
    "\n",
    "for index in range(len(words)):\n",
    "    if index % 2 == 1:\n",
    "        words[index] = words[index][::-1]\n",
    "\n",
    "reversed_sentence = ' '.join(words)\n",
    "\n",
    "print(reversed_sentence)\n"
   ]
  },
  {
   "cell_type": "code",
   "execution_count": null,
   "id": "9f3f7914",
   "metadata": {},
   "outputs": [],
   "source": []
  }
 ],
 "metadata": {
  "kernelspec": {
   "display_name": "Python 3 (ipykernel)",
   "language": "python",
   "name": "python3"
  },
  "language_info": {
   "codemirror_mode": {
    "name": "ipython",
    "version": 3
   },
   "file_extension": ".py",
   "mimetype": "text/x-python",
   "name": "python",
   "nbconvert_exporter": "python",
   "pygments_lexer": "ipython3",
   "version": "3.9.12"
  }
 },
 "nbformat": 4,
 "nbformat_minor": 5
}
