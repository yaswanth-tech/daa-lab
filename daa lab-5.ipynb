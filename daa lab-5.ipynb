{
 "cells": [
  {
   "cell_type": "code",
   "execution_count": null,
   "id": "0ef00907",
   "metadata": {},
   "outputs": [],
   "source": []
  },
  {
   "cell_type": "code",
   "execution_count": 4,
   "id": "10c27bbe",
   "metadata": {},
   "outputs": [
    {
     "name": "stdout",
     "output_type": "stream",
     "text": [
      "The graph contains a cycle.\n"
     ]
    }
   ],
   "source": [
    "def has_cycle(graph):\n",
    "    def dfs(node, visited, stack):\n",
    "        visited[node] = True\n",
    "        stack.append(node)\n",
    "\n",
    "        for neighbor in graph.get(node, []):\n",
    "            if not visited.get(neighbor, False):\n",
    "                if dfs(neighbor, visited, stack):\n",
    "                    return True\n",
    "            elif neighbor in stack:\n",
    "                return True\n",
    "\n",
    "        stack.pop()\n",
    "        return False\n",
    "\n",
    "    visited = {}  \n",
    "\n",
    "    for node in graph:\n",
    "        if not visited.get(node, False):\n",
    "            if dfs(node, visited, []):\n",
    "                return True\n",
    "\n",
    "    return False\n",
    "\n",
    "\n",
    "graph = {\n",
    "    1: [2],\n",
    "    3: [2],\n",
    "    4: [1, 3],\n",
    "    2: [4]\n",
    "}\n",
    "\n",
    "if has_cycle(graph):\n",
    "    print(\"The graph contains a cycle.\")\n",
    "else:\n",
    "    print(\"The graph does not contain a cycle.\")\n"
   ]
  },
  {
   "cell_type": "code",
   "execution_count": null,
   "id": "ddee6443",
   "metadata": {},
   "outputs": [],
   "source": []
  },
  {
   "cell_type": "code",
   "execution_count": 9,
   "id": "5f345b89",
   "metadata": {},
   "outputs": [
    {
     "name": "stdout",
     "output_type": "stream",
     "text": [
      "The directed graph contains a cycle.\n"
     ]
    }
   ],
   "source": [
    "from collections import defaultdict\n",
    "\n",
    "class Graph:\n",
    "    def __init__(self):\n",
    "        self.graph = defaultdict(list)\n",
    "\n",
    "    def add_edge(self, u, v):\n",
    "        self.graph[u].append(v)\n",
    "\n",
    "    def is_cyclic_util(self, v, visited, rec_stack):\n",
    "        visited[v] = True\n",
    "        rec_stack[v] = True\n",
    "\n",
    "        for neighbor in self.graph[v]:\n",
    "            if not visited[neighbor]:\n",
    "                if self.is_cyclic_util(neighbor, visited, rec_stack):\n",
    "                    return True\n",
    "            elif rec_stack[neighbor]:\n",
    "                return True\n",
    "\n",
    "        rec_stack[v] = False\n",
    "        return False\n",
    "\n",
    "    def is_cyclic(self):\n",
    "        visited = [False] * (max(self.graph) + 1)\n",
    "        rec_stack = [False] * (max(self.graph) + 1)\n",
    "\n",
    "        for node in self.graph:\n",
    "            if not visited[node]:\n",
    "                if self.is_cyclic_util(node, visited, rec_stack):\n",
    "                    return True\n",
    "        return False\n",
    "\n",
    "g = Graph()\n",
    "g.add_edge(1, 2)\n",
    "g.add_edge(2, 4)\n",
    "g.add_edge(4, 1)\n",
    "g.add_edge(4, 3)\n",
    "g.add_edge(3, 2)\n",
    "\n",
    "if g.is_cyclic():\n",
    "    print(\"The directed graph contains a cycle.\")\n",
    "else:\n",
    "    print(\"The directed graph does not contain a cycle.\")\n"
   ]
  },
  {
   "cell_type": "code",
   "execution_count": null,
   "id": "d19c89f1",
   "metadata": {},
   "outputs": [],
   "source": []
  },
  {
   "cell_type": "code",
   "execution_count": null,
   "id": "842a5278",
   "metadata": {},
   "outputs": [],
   "source": []
  },
  {
   "cell_type": "code",
   "execution_count": 12,
   "id": "8125232e",
   "metadata": {},
   "outputs": [
    {
     "name": "stdout",
     "output_type": "stream",
     "text": [
      "The graph contains a cycle.\n"
     ]
    }
   ],
   "source": [
    "def has_cycle(graph):\n",
    "    def dfs(node, visited, stack):\n",
    "        visited[node] = True\n",
    "        stack.append(node)\n",
    "\n",
    "        for neighbor in graph.get(node, []):\n",
    "            if not visited.get(neighbor, False):\n",
    "                if dfs(neighbor, visited, stack):\n",
    "                    return True\n",
    "            elif neighbor in stack:\n",
    "                return True\n",
    "\n",
    "        stack.pop()\n",
    "        return False\n",
    "\n",
    "    visited = {}  \n",
    "\n",
    "    for node in graph:\n",
    "        if not visited.get(node, False):\n",
    "            if dfs(node, visited, []):\n",
    "                return True\n",
    "\n",
    "    return False\n",
    "\n",
    "\n",
    "graph = {\n",
    "    1: [2],\n",
    "    3: [2],\n",
    "    4: [1, 3],\n",
    "    2: [4]\n",
    "}\n",
    "\n",
    "if has_cycle(graph):\n",
    "    print(\"The graph contains a cycle.\")\n",
    "else:\n",
    "    print(\"The graph does not contain a cycle.\")\n"
   ]
  },
  {
   "cell_type": "code",
   "execution_count": 16,
   "id": "69fa1c3e",
   "metadata": {},
   "outputs": [
    {
     "name": "stdout",
     "output_type": "stream",
     "text": [
      "The directed graph contains a cycle.\n"
     ]
    }
   ],
   "source": [
    "def has_cycle(graph):\n",
    "    visited = set()\n",
    "    stack = set()\n",
    "    \n",
    "    def has_cycle_util(node):\n",
    "        if node in stack:\n",
    "            return True\n",
    "        if node in visited:\n",
    "            return False\n",
    "        \n",
    "        visited.add(node)\n",
    "        stack.add(node)\n",
    "        \n",
    "        for neighbor in graph.get(node, []):\n",
    "            if has_cycle_util(neighbor):\n",
    "                return True\n",
    "        \n",
    "        stack.remove(node)\n",
    "        return False\n",
    "\n",
    "    for node in graph:\n",
    "        if has_cycle_util(node):\n",
    "            return True\n",
    "\n",
    "    return False\n",
    "\n",
    "\n",
    "graph = {\n",
    "    1: [2],\n",
    "    3: [2],\n",
    "    4: [1, 3],\n",
    "    2: [4]\n",
    "}\n",
    "\n",
    "if has_cycle(graph):\n",
    "    print(\"The directed graph contains a cycle.\")\n",
    "else:\n",
    "    print(\"The directed graph does not contain a cycle.\")\n"
   ]
  },
  {
   "cell_type": "code",
   "execution_count": null,
   "id": "4e141a32",
   "metadata": {},
   "outputs": [],
   "source": []
  }
 ],
 "metadata": {
  "kernelspec": {
   "display_name": "Python 3 (ipykernel)",
   "language": "python",
   "name": "python3"
  },
  "language_info": {
   "codemirror_mode": {
    "name": "ipython",
    "version": 3
   },
   "file_extension": ".py",
   "mimetype": "text/x-python",
   "name": "python",
   "nbconvert_exporter": "python",
   "pygments_lexer": "ipython3",
   "version": "3.9.12"
  }
 },
 "nbformat": 4,
 "nbformat_minor": 5
}
